{
  "nbformat": 4,
  "nbformat_minor": 0,
  "metadata": {
    "colab": {
      "name": "Proyecto 2 Data Science",
      "provenance": [],
      "collapsed_sections": [],
      "include_colab_link": true
    },
    "kernelspec": {
      "name": "python3",
      "display_name": "Python 3"
    },
    "language_info": {
      "name": "python"
    }
  },
  "cells": [
    {
      "cell_type": "markdown",
      "metadata": {
        "id": "view-in-github",
        "colab_type": "text"
      },
      "source": [
        "<a href=\"https://colab.research.google.com/github/diegoestradaXO/Proyecto2-Data-Science/blob/master/Proyecto_2_Data_Science.ipynb\" target=\"_parent\"><img src=\"https://colab.research.google.com/assets/colab-badge.svg\" alt=\"Open In Colab\"/></a>"
      ]
    },
    {
      "cell_type": "markdown",
      "metadata": {
        "id": "9airTFva9nes"
      },
      "source": [
        "# Proyecto 2: Data Science\n",
        "### Detección de COVID-19 en radiografías de tórax"
      ]
    },
    {
      "cell_type": "markdown",
      "metadata": {
        "id": "k94wo4x4y5iU"
      },
      "source": [
        "### Autores:\n",
        "\n",
        "Andrea Elías - 17048<br>\n",
        "Diego Estrada - 18540<br>\n",
        "Saúl Contreras - 18409 <br>\n",
        "Randy Venegas - 18341"
      ]
    },
    {
      "cell_type": "code",
      "metadata": {
        "id": "cztrkQxDs0kf",
        "colab": {
          "base_uri": "https://localhost:8080/"
        },
        "outputId": "bf8d8a67-73eb-408f-ae22-e8fff64e0a5b"
      },
      "source": [
        "from google.colab import drive\n",
        "drive.mount('/content/drive') "
      ],
      "execution_count": null,
      "outputs": [
        {
          "output_type": "stream",
          "name": "stdout",
          "text": [
            "Mounted at /content/drive\n"
          ]
        }
      ]
    },
    {
      "cell_type": "code",
      "metadata": {
        "colab": {
          "base_uri": "https://localhost:8080/"
        },
        "id": "jAR5XB-J3mdV",
        "outputId": "62a20649-d4e9-4a08-b198-9568c79eb6a2"
      },
      "source": [
        "pip install pydicom"
      ],
      "execution_count": null,
      "outputs": [
        {
          "output_type": "stream",
          "name": "stdout",
          "text": [
            "Collecting pydicom\n",
            "  Downloading pydicom-2.2.1-py3-none-any.whl (2.0 MB)\n",
            "\u001b[K     |████████████████████████████████| 2.0 MB 9.4 MB/s \n",
            "\u001b[?25hInstalling collected packages: pydicom\n",
            "Successfully installed pydicom-2.2.1\n"
          ]
        }
      ]
    },
    {
      "cell_type": "code",
      "metadata": {
        "id": "iLpl9L9czwY8"
      },
      "source": [
        "import pandas as pd\n",
        "import os\n",
        "import math\n",
        "from PIL import Image\n",
        "import cv2\n",
        "import numpy as np\n",
        "import sys \n",
        "import matplotlib.pyplot as plt\n",
        "import pydicom"
      ],
      "execution_count": null,
      "outputs": []
    },
    {
      "cell_type": "code",
      "metadata": {
        "id": "hLEOaPZrzgHf"
      },
      "source": [
        "data_study_level = pd.read_csv('/content/drive/My Drive/datasets/siim-covid-19/train_study_level.csv')"
      ],
      "execution_count": null,
      "outputs": []
    },
    {
      "cell_type": "code",
      "metadata": {
        "id": "Beznr8Zi0HOh"
      },
      "source": [
        "data_image_level = pd.read_csv('/content/drive/My Drive/datasets/siim-covid-19/train_image_level.csv')"
      ],
      "execution_count": null,
      "outputs": []
    },
    {
      "cell_type": "code",
      "metadata": {
        "colab": {
          "base_uri": "https://localhost:8080/"
        },
        "id": "U8czXqr74nO8",
        "outputId": "89b893a3-f50b-4d07-938b-4589cc102831"
      },
      "source": [
        "data_image_level.shape\n"
      ],
      "execution_count": null,
      "outputs": [
        {
          "output_type": "execute_result",
          "data": {
            "text/plain": [
              "(6334, 4)"
            ]
          },
          "metadata": {},
          "execution_count": 6
        }
      ]
    },
    {
      "cell_type": "code",
      "metadata": {
        "colab": {
          "base_uri": "https://localhost:8080/"
        },
        "id": "bIAK4Mil4qHe",
        "outputId": "daa536c3-9140-4e31-cf2b-a1252202b2cc"
      },
      "source": [
        "data_study_level.shape\n"
      ],
      "execution_count": null,
      "outputs": [
        {
          "output_type": "execute_result",
          "data": {
            "text/plain": [
              "(6054, 5)"
            ]
          },
          "metadata": {},
          "execution_count": 7
        }
      ]
    },
    {
      "cell_type": "code",
      "metadata": {
        "colab": {
          "base_uri": "https://localhost:8080/",
          "height": 204
        },
        "id": "YuD-N3iKBjFg",
        "outputId": "07543156-905f-461b-cf13-b58e18962c25"
      },
      "source": [
        "data_study_level.head()"
      ],
      "execution_count": null,
      "outputs": [
        {
          "output_type": "execute_result",
          "data": {
            "text/html": [
              "<div>\n",
              "<style scoped>\n",
              "    .dataframe tbody tr th:only-of-type {\n",
              "        vertical-align: middle;\n",
              "    }\n",
              "\n",
              "    .dataframe tbody tr th {\n",
              "        vertical-align: top;\n",
              "    }\n",
              "\n",
              "    .dataframe thead th {\n",
              "        text-align: right;\n",
              "    }\n",
              "</style>\n",
              "<table border=\"1\" class=\"dataframe\">\n",
              "  <thead>\n",
              "    <tr style=\"text-align: right;\">\n",
              "      <th></th>\n",
              "      <th>id</th>\n",
              "      <th>Negative for Pneumonia</th>\n",
              "      <th>Typical Appearance</th>\n",
              "      <th>Indeterminate Appearance</th>\n",
              "      <th>Atypical Appearance</th>\n",
              "    </tr>\n",
              "  </thead>\n",
              "  <tbody>\n",
              "    <tr>\n",
              "      <th>0</th>\n",
              "      <td>00086460a852_study</td>\n",
              "      <td>0</td>\n",
              "      <td>1</td>\n",
              "      <td>0</td>\n",
              "      <td>0</td>\n",
              "    </tr>\n",
              "    <tr>\n",
              "      <th>1</th>\n",
              "      <td>000c9c05fd14_study</td>\n",
              "      <td>0</td>\n",
              "      <td>0</td>\n",
              "      <td>0</td>\n",
              "      <td>1</td>\n",
              "    </tr>\n",
              "    <tr>\n",
              "      <th>2</th>\n",
              "      <td>00292f8c37bd_study</td>\n",
              "      <td>1</td>\n",
              "      <td>0</td>\n",
              "      <td>0</td>\n",
              "      <td>0</td>\n",
              "    </tr>\n",
              "    <tr>\n",
              "      <th>3</th>\n",
              "      <td>005057b3f880_study</td>\n",
              "      <td>1</td>\n",
              "      <td>0</td>\n",
              "      <td>0</td>\n",
              "      <td>0</td>\n",
              "    </tr>\n",
              "    <tr>\n",
              "      <th>4</th>\n",
              "      <td>0051d9b12e72_study</td>\n",
              "      <td>0</td>\n",
              "      <td>0</td>\n",
              "      <td>0</td>\n",
              "      <td>1</td>\n",
              "    </tr>\n",
              "  </tbody>\n",
              "</table>\n",
              "</div>"
            ],
            "text/plain": [
              "                   id  ...  Atypical Appearance\n",
              "0  00086460a852_study  ...                    0\n",
              "1  000c9c05fd14_study  ...                    1\n",
              "2  00292f8c37bd_study  ...                    0\n",
              "3  005057b3f880_study  ...                    0\n",
              "4  0051d9b12e72_study  ...                    1\n",
              "\n",
              "[5 rows x 5 columns]"
            ]
          },
          "metadata": {},
          "execution_count": 8
        }
      ]
    },
    {
      "cell_type": "code",
      "metadata": {
        "colab": {
          "base_uri": "https://localhost:8080/",
          "height": 204
        },
        "id": "vH7Gk6s4BlOl",
        "outputId": "378addf0-0691-4f89-ebf8-77dca7f4ddbe"
      },
      "source": [
        "data_image_level.head()"
      ],
      "execution_count": null,
      "outputs": [
        {
          "output_type": "execute_result",
          "data": {
            "text/html": [
              "<div>\n",
              "<style scoped>\n",
              "    .dataframe tbody tr th:only-of-type {\n",
              "        vertical-align: middle;\n",
              "    }\n",
              "\n",
              "    .dataframe tbody tr th {\n",
              "        vertical-align: top;\n",
              "    }\n",
              "\n",
              "    .dataframe thead th {\n",
              "        text-align: right;\n",
              "    }\n",
              "</style>\n",
              "<table border=\"1\" class=\"dataframe\">\n",
              "  <thead>\n",
              "    <tr style=\"text-align: right;\">\n",
              "      <th></th>\n",
              "      <th>id</th>\n",
              "      <th>boxes</th>\n",
              "      <th>label</th>\n",
              "      <th>StudyInstanceUID</th>\n",
              "    </tr>\n",
              "  </thead>\n",
              "  <tbody>\n",
              "    <tr>\n",
              "      <th>0</th>\n",
              "      <td>000a312787f2_image</td>\n",
              "      <td>[{'x': 789.28836, 'y': 582.43035, 'width': 102...</td>\n",
              "      <td>opacity 1 789.28836 582.43035 1815.94498 2499....</td>\n",
              "      <td>5776db0cec75</td>\n",
              "    </tr>\n",
              "    <tr>\n",
              "      <th>1</th>\n",
              "      <td>000c3a3f293f_image</td>\n",
              "      <td>NaN</td>\n",
              "      <td>none 1 0 0 1 1</td>\n",
              "      <td>ff0879eb20ed</td>\n",
              "    </tr>\n",
              "    <tr>\n",
              "      <th>2</th>\n",
              "      <td>0012ff7358bc_image</td>\n",
              "      <td>[{'x': 677.42216, 'y': 197.97662, 'width': 867...</td>\n",
              "      <td>opacity 1 677.42216 197.97662 1545.21983 1197....</td>\n",
              "      <td>9d514ce429a7</td>\n",
              "    </tr>\n",
              "    <tr>\n",
              "      <th>3</th>\n",
              "      <td>001398f4ff4f_image</td>\n",
              "      <td>[{'x': 2729, 'y': 2181.33331, 'width': 948.000...</td>\n",
              "      <td>opacity 1 2729 2181.33331 3677.00012 2785.33331</td>\n",
              "      <td>28dddc8559b2</td>\n",
              "    </tr>\n",
              "    <tr>\n",
              "      <th>4</th>\n",
              "      <td>001bd15d1891_image</td>\n",
              "      <td>[{'x': 623.23328, 'y': 1050, 'width': 714, 'he...</td>\n",
              "      <td>opacity 1 623.23328 1050 1337.23328 2156 opaci...</td>\n",
              "      <td>dfd9fdd85a3e</td>\n",
              "    </tr>\n",
              "  </tbody>\n",
              "</table>\n",
              "</div>"
            ],
            "text/plain": [
              "                   id  ... StudyInstanceUID\n",
              "0  000a312787f2_image  ...     5776db0cec75\n",
              "1  000c3a3f293f_image  ...     ff0879eb20ed\n",
              "2  0012ff7358bc_image  ...     9d514ce429a7\n",
              "3  001398f4ff4f_image  ...     28dddc8559b2\n",
              "4  001bd15d1891_image  ...     dfd9fdd85a3e\n",
              "\n",
              "[5 rows x 4 columns]"
            ]
          },
          "metadata": {},
          "execution_count": 9
        }
      ]
    }
  ]
}
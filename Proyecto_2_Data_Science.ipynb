{
  "nbformat": 4,
  "nbformat_minor": 0,
  "metadata": {
    "colab": {
      "name": "Proyecto 2 Data Science",
      "provenance": [],
      "collapsed_sections": [],
      "include_colab_link": true
    },
    "kernelspec": {
      "name": "python3",
      "display_name": "Python 3"
    },
    "language_info": {
      "name": "python"
    }
  },
  "cells": [
    {
      "cell_type": "markdown",
      "metadata": {
        "id": "view-in-github",
        "colab_type": "text"
      },
      "source": [
        "<a href=\"https://colab.research.google.com/github/diegoestradaXO/Proyecto2-Data-Science/blob/master/Proyecto_2_Data_Science.ipynb\" target=\"_parent\"><img src=\"https://colab.research.google.com/assets/colab-badge.svg\" alt=\"Open In Colab\"/></a>"
      ]
    },
    {
      "cell_type": "markdown",
      "metadata": {
        "id": "9airTFva9nes"
      },
      "source": [
        "# Proyecto 2: Data Science\n",
        "### Detección de COVID-19 en radiografías de tórax"
      ]
    },
    {
      "cell_type": "markdown",
      "metadata": {
        "id": "ODum2ECpNfDu"
      },
      "source": [
        "### Objetivos\n",
        "- General\n",
        "  - Identificar y localizar anomalías causadas por COVID-19 en radiografías de tórax\n",
        "- Secundarios:\n",
        "  - Generar modelos y predicciones sobre las anomalías causadas por COVID-19 con el uso de Data Science, haciendo uso de las técnicas de filtrado y procesamiento de imágenes \n",
        "  - Agilizar el proceso de detección de COVID-19, identificando patrones intersticiales por medio del análisis de imágenes de radiografías de tórax.\n",
        "Etiquetar las imágenes de radiografías de tórax por; negativo a neumonía, apariencia típica, indeterminada o atípica.\n"
      ]
    },
    {
      "cell_type": "markdown",
      "metadata": {
        "id": "k94wo4x4y5iU"
      },
      "source": [
        "### Autores:\n",
        "\n",
        "Andrea Elías - 17048<br>\n",
        "Diego Estrada - 18540<br>\n",
        "Saúl Contreras - 18409 <br>\n",
        "Randy Venegas - 18341"
      ]
    },
    {
      "cell_type": "code",
      "metadata": {
        "id": "cztrkQxDs0kf",
        "colab": {
          "base_uri": "https://localhost:8080/"
        },
        "outputId": "bf8d8a67-73eb-408f-ae22-e8fff64e0a5b"
      },
      "source": [
        "from google.colab import drive\n",
        "drive.mount('/content/drive') "
      ],
      "execution_count": null,
      "outputs": [
        {
          "output_type": "stream",
          "name": "stdout",
          "text": [
            "Mounted at /content/drive\n"
          ]
        }
      ]
    },
    {
      "cell_type": "code",
      "metadata": {
        "colab": {
          "base_uri": "https://localhost:8080/"
        },
        "id": "jAR5XB-J3mdV",
        "outputId": "62a20649-d4e9-4a08-b198-9568c79eb6a2"
      },
      "source": [
        "pip install pydicom"
      ],
      "execution_count": null,
      "outputs": [
        {
          "output_type": "stream",
          "name": "stdout",
          "text": [
            "Collecting pydicom\n",
            "  Downloading pydicom-2.2.1-py3-none-any.whl (2.0 MB)\n",
            "\u001b[K     |████████████████████████████████| 2.0 MB 9.4 MB/s \n",
            "\u001b[?25hInstalling collected packages: pydicom\n",
            "Successfully installed pydicom-2.2.1\n"
          ]
        }
      ]
    },
    {
      "cell_type": "code",
      "metadata": {
        "id": "iLpl9L9czwY8"
      },
      "source": [
        "import pandas as pd\n",
        "import os\n",
        "import math\n",
        "from PIL import Image\n",
        "import cv2\n",
        "import numpy as np\n",
        "import sys \n",
        "import matplotlib.pyplot as plt\n",
        "import pydicom\n",
        "\n",
        "from pandas import DataFrame\n",
        "\n",
        "from matplotlib.lines import Line2D\n",
        "import seaborn as sns\n",
        "import plotly.express as px\n",
        "\n",
        "import pydicom\n",
        "import glob\n",
        "import cv2\n",
        "\n",
        "from tqdm.notebook import tqdm\n",
        "from pydicom.pixel_data_handlers.util import apply_voi_lut\n",
        "from skimage import exposure"
      ],
      "execution_count": null,
      "outputs": []
    },
    {
      "cell_type": "code",
      "metadata": {
        "id": "hLEOaPZrzgHf"
      },
      "source": [
        "data_study_level = pd.read_csv('/content/drive/My Drive/datasets/siim-covid-19/train_study_level.csv')"
      ],
      "execution_count": null,
      "outputs": []
    },
    {
      "cell_type": "code",
      "metadata": {
        "id": "Beznr8Zi0HOh"
      },
      "source": [
        "data_image_level = pd.read_csv('/content/drive/My Drive/datasets/siim-covid-19/train_image_level.csv')"
      ],
      "execution_count": null,
      "outputs": []
    },
    {
      "cell_type": "markdown",
      "metadata": {
        "id": "qjZuxw_M_myj"
      },
      "source": [
        "El shape establece cuantos datos contiene el conjunto, y cuantas columnas posee. Para el caso del conjunto de datos de nivel de imagen, hay 6334 filas y 4 columnas."
      ]
    },
    {
      "cell_type": "code",
      "metadata": {
        "colab": {
          "base_uri": "https://localhost:8080/"
        },
        "id": "U8czXqr74nO8",
        "outputId": "5386d9bc-bb44-4a93-bdca-7c5f47272868"
      },
      "source": [
        "data_image_level.shape\n"
      ],
      "execution_count": null,
      "outputs": [
        {
          "output_type": "execute_result",
          "data": {
            "text/plain": [
              "(6334, 4)"
            ]
          },
          "metadata": {},
          "execution_count": 29
        }
      ]
    },
    {
      "cell_type": "markdown",
      "metadata": {
        "id": "GzVya7D9_5rN"
      },
      "source": [
        "Para el conjunto de datos a nivel de estudio, se observa que se cuenta con 6054 filas y 5 columnas"
      ]
    },
    {
      "cell_type": "code",
      "metadata": {
        "colab": {
          "base_uri": "https://localhost:8080/"
        },
        "id": "bIAK4Mil4qHe",
        "outputId": "9d264d39-74b8-467d-b1ae-3372b7cb42a9"
      },
      "source": [
        "data_study_level.shape\n"
      ],
      "execution_count": null,
      "outputs": [
        {
          "output_type": "execute_result",
          "data": {
            "text/plain": [
              "(6054, 5)"
            ]
          },
          "metadata": {},
          "execution_count": 30
        }
      ]
    },
    {
      "cell_type": "markdown",
      "metadata": {
        "id": "CouBsjp9ACdf"
      },
      "source": [
        "A continuación se presentan las cinco columnas y primeras cinco filas del dataset a nivel de estudio."
      ]
    },
    {
      "cell_type": "code",
      "metadata": {
        "colab": {
          "base_uri": "https://localhost:8080/",
          "height": 204
        },
        "id": "YuD-N3iKBjFg",
        "outputId": "f935e51b-82fa-4cd0-9f88-a5d0eefa4c03"
      },
      "source": [
        "data_study_level.head()"
      ],
      "execution_count": null,
      "outputs": [
        {
          "output_type": "execute_result",
          "data": {
            "text/html": [
              "<div>\n",
              "<style scoped>\n",
              "    .dataframe tbody tr th:only-of-type {\n",
              "        vertical-align: middle;\n",
              "    }\n",
              "\n",
              "    .dataframe tbody tr th {\n",
              "        vertical-align: top;\n",
              "    }\n",
              "\n",
              "    .dataframe thead th {\n",
              "        text-align: right;\n",
              "    }\n",
              "</style>\n",
              "<table border=\"1\" class=\"dataframe\">\n",
              "  <thead>\n",
              "    <tr style=\"text-align: right;\">\n",
              "      <th></th>\n",
              "      <th>id</th>\n",
              "      <th>Negative for Pneumonia</th>\n",
              "      <th>Typical Appearance</th>\n",
              "      <th>Indeterminate Appearance</th>\n",
              "      <th>Atypical Appearance</th>\n",
              "    </tr>\n",
              "  </thead>\n",
              "  <tbody>\n",
              "    <tr>\n",
              "      <th>0</th>\n",
              "      <td>00086460a852_study</td>\n",
              "      <td>0</td>\n",
              "      <td>1</td>\n",
              "      <td>0</td>\n",
              "      <td>0</td>\n",
              "    </tr>\n",
              "    <tr>\n",
              "      <th>1</th>\n",
              "      <td>000c9c05fd14_study</td>\n",
              "      <td>0</td>\n",
              "      <td>0</td>\n",
              "      <td>0</td>\n",
              "      <td>1</td>\n",
              "    </tr>\n",
              "    <tr>\n",
              "      <th>2</th>\n",
              "      <td>00292f8c37bd_study</td>\n",
              "      <td>1</td>\n",
              "      <td>0</td>\n",
              "      <td>0</td>\n",
              "      <td>0</td>\n",
              "    </tr>\n",
              "    <tr>\n",
              "      <th>3</th>\n",
              "      <td>005057b3f880_study</td>\n",
              "      <td>1</td>\n",
              "      <td>0</td>\n",
              "      <td>0</td>\n",
              "      <td>0</td>\n",
              "    </tr>\n",
              "    <tr>\n",
              "      <th>4</th>\n",
              "      <td>0051d9b12e72_study</td>\n",
              "      <td>0</td>\n",
              "      <td>0</td>\n",
              "      <td>0</td>\n",
              "      <td>1</td>\n",
              "    </tr>\n",
              "  </tbody>\n",
              "</table>\n",
              "</div>"
            ],
            "text/plain": [
              "                   id  ...  Atypical Appearance\n",
              "0  00086460a852_study  ...                    0\n",
              "1  000c9c05fd14_study  ...                    1\n",
              "2  00292f8c37bd_study  ...                    0\n",
              "3  005057b3f880_study  ...                    0\n",
              "4  0051d9b12e72_study  ...                    1\n",
              "\n",
              "[5 rows x 5 columns]"
            ]
          },
          "metadata": {},
          "execution_count": 31
        }
      ]
    },
    {
      "cell_type": "markdown",
      "metadata": {
        "id": "OYveUbRGIiOE"
      },
      "source": [
        "A continuación se presentan las cinco columnas y primeras cinco filas del dataset a nivel de imagen."
      ]
    },
    {
      "cell_type": "code",
      "metadata": {
        "colab": {
          "base_uri": "https://localhost:8080/",
          "height": 204
        },
        "id": "vH7Gk6s4BlOl",
        "outputId": "d5ec88f8-69c3-47ea-b382-10ca9f9547a9"
      },
      "source": [
        "data_image_level.head()"
      ],
      "execution_count": null,
      "outputs": [
        {
          "output_type": "execute_result",
          "data": {
            "text/html": [
              "<div>\n",
              "<style scoped>\n",
              "    .dataframe tbody tr th:only-of-type {\n",
              "        vertical-align: middle;\n",
              "    }\n",
              "\n",
              "    .dataframe tbody tr th {\n",
              "        vertical-align: top;\n",
              "    }\n",
              "\n",
              "    .dataframe thead th {\n",
              "        text-align: right;\n",
              "    }\n",
              "</style>\n",
              "<table border=\"1\" class=\"dataframe\">\n",
              "  <thead>\n",
              "    <tr style=\"text-align: right;\">\n",
              "      <th></th>\n",
              "      <th>id</th>\n",
              "      <th>boxes</th>\n",
              "      <th>label</th>\n",
              "      <th>StudyInstanceUID</th>\n",
              "    </tr>\n",
              "  </thead>\n",
              "  <tbody>\n",
              "    <tr>\n",
              "      <th>0</th>\n",
              "      <td>000a312787f2_image</td>\n",
              "      <td>[{'x': 789.28836, 'y': 582.43035, 'width': 102...</td>\n",
              "      <td>opacity 1 789.28836 582.43035 1815.94498 2499....</td>\n",
              "      <td>5776db0cec75</td>\n",
              "    </tr>\n",
              "    <tr>\n",
              "      <th>1</th>\n",
              "      <td>000c3a3f293f_image</td>\n",
              "      <td>NaN</td>\n",
              "      <td>none 1 0 0 1 1</td>\n",
              "      <td>ff0879eb20ed</td>\n",
              "    </tr>\n",
              "    <tr>\n",
              "      <th>2</th>\n",
              "      <td>0012ff7358bc_image</td>\n",
              "      <td>[{'x': 677.42216, 'y': 197.97662, 'width': 867...</td>\n",
              "      <td>opacity 1 677.42216 197.97662 1545.21983 1197....</td>\n",
              "      <td>9d514ce429a7</td>\n",
              "    </tr>\n",
              "    <tr>\n",
              "      <th>3</th>\n",
              "      <td>001398f4ff4f_image</td>\n",
              "      <td>[{'x': 2729, 'y': 2181.33331, 'width': 948.000...</td>\n",
              "      <td>opacity 1 2729 2181.33331 3677.00012 2785.33331</td>\n",
              "      <td>28dddc8559b2</td>\n",
              "    </tr>\n",
              "    <tr>\n",
              "      <th>4</th>\n",
              "      <td>001bd15d1891_image</td>\n",
              "      <td>[{'x': 623.23328, 'y': 1050, 'width': 714, 'he...</td>\n",
              "      <td>opacity 1 623.23328 1050 1337.23328 2156 opaci...</td>\n",
              "      <td>dfd9fdd85a3e</td>\n",
              "    </tr>\n",
              "  </tbody>\n",
              "</table>\n",
              "</div>"
            ],
            "text/plain": [
              "                   id  ... StudyInstanceUID\n",
              "0  000a312787f2_image  ...     5776db0cec75\n",
              "1  000c3a3f293f_image  ...     ff0879eb20ed\n",
              "2  0012ff7358bc_image  ...     9d514ce429a7\n",
              "3  001398f4ff4f_image  ...     28dddc8559b2\n",
              "4  001bd15d1891_image  ...     dfd9fdd85a3e\n",
              "\n",
              "[5 rows x 4 columns]"
            ]
          },
          "metadata": {},
          "execution_count": 32
        }
      ]
    },
    {
      "cell_type": "markdown",
      "metadata": {
        "id": "2ON17devQvMn"
      },
      "source": [
        "## Study level\n",
        "\n",
        "El nivel de estudio es un problema de clasificación, una radiografía puede tener una de las \n",
        "4 clases siguientes: \n",
        "Negativo: Sin COVID, pulmones limpios,\n",
        "Típicos: Hallazgos comunes en COVID-19,\n",
        "Atípico: Hallazgos poco frecuentes en COVID-19,\n",
        "Indeterminado: Los hallazgos que se encontraron suelen ser comunes en COVID-19, pero también se observa en otra infecciones respiratorias\n"
      ]
    },
    {
      "cell_type": "markdown",
      "metadata": {
        "id": "DzJz2FnvMLKm"
      },
      "source": [
        "Calcular la variable class que identificará a que clase de las descritas anteriormente \n",
        "mencionadas. \n"
      ]
    },
    {
      "cell_type": "code",
      "metadata": {
        "colab": {
          "base_uri": "https://localhost:8080/",
          "height": 159
        },
        "id": "XNedrT5VMLiD",
        "outputId": "e7e75132-e5c4-4476-9a29-c5ee77a9d51b"
      },
      "source": [
        "data_study_level['class'] = 'Typical'\n",
        "data_study_level.loc[data_study_level['Negative for Pneumonia']==1, 'class'] = 'Negative'\n",
        "data_study_level.loc[data_study_level['Indeterminate Appearance']==1, 'class'] = 'Indeterminate'\n",
        "data_study_level.loc[data_study_level['Atypical Appearance']==1, 'class'] = 'Atypical'\n",
        "\n",
        "data_study_level.head(3)"
      ],
      "execution_count": null,
      "outputs": [
        {
          "output_type": "execute_result",
          "data": {
            "text/html": [
              "<div>\n",
              "<style scoped>\n",
              "    .dataframe tbody tr th:only-of-type {\n",
              "        vertical-align: middle;\n",
              "    }\n",
              "\n",
              "    .dataframe tbody tr th {\n",
              "        vertical-align: top;\n",
              "    }\n",
              "\n",
              "    .dataframe thead th {\n",
              "        text-align: right;\n",
              "    }\n",
              "</style>\n",
              "<table border=\"1\" class=\"dataframe\">\n",
              "  <thead>\n",
              "    <tr style=\"text-align: right;\">\n",
              "      <th></th>\n",
              "      <th>id</th>\n",
              "      <th>Negative for Pneumonia</th>\n",
              "      <th>Typical Appearance</th>\n",
              "      <th>Indeterminate Appearance</th>\n",
              "      <th>Atypical Appearance</th>\n",
              "      <th>study_class</th>\n",
              "      <th>StudyInstanceUID</th>\n",
              "      <th>class</th>\n",
              "    </tr>\n",
              "  </thead>\n",
              "  <tbody>\n",
              "    <tr>\n",
              "      <th>0</th>\n",
              "      <td>00086460a852_study</td>\n",
              "      <td>0</td>\n",
              "      <td>1</td>\n",
              "      <td>0</td>\n",
              "      <td>0</td>\n",
              "      <td>Typical</td>\n",
              "      <td>00086460a852</td>\n",
              "      <td>Typical</td>\n",
              "    </tr>\n",
              "    <tr>\n",
              "      <th>1</th>\n",
              "      <td>000c9c05fd14_study</td>\n",
              "      <td>0</td>\n",
              "      <td>0</td>\n",
              "      <td>0</td>\n",
              "      <td>1</td>\n",
              "      <td>Atypical</td>\n",
              "      <td>000c9c05fd14</td>\n",
              "      <td>Atypical</td>\n",
              "    </tr>\n",
              "    <tr>\n",
              "      <th>2</th>\n",
              "      <td>00292f8c37bd_study</td>\n",
              "      <td>1</td>\n",
              "      <td>0</td>\n",
              "      <td>0</td>\n",
              "      <td>0</td>\n",
              "      <td>Negative</td>\n",
              "      <td>00292f8c37bd</td>\n",
              "      <td>Negative</td>\n",
              "    </tr>\n",
              "  </tbody>\n",
              "</table>\n",
              "</div>"
            ],
            "text/plain": [
              "                   id  Negative for Pneumonia  ...  StudyInstanceUID     class\n",
              "0  00086460a852_study                       0  ...      00086460a852   Typical\n",
              "1  000c9c05fd14_study                       0  ...      000c9c05fd14  Atypical\n",
              "2  00292f8c37bd_study                       1  ...      00292f8c37bd  Negative\n",
              "\n",
              "[3 rows x 8 columns]"
            ]
          },
          "metadata": {},
          "execution_count": 43
        }
      ]
    },
    {
      "cell_type": "markdown",
      "metadata": {
        "id": "TybCT9zRPy4s"
      },
      "source": [
        "Determinar la frecuencia de cada clase"
      ]
    },
    {
      "cell_type": "code",
      "metadata": {
        "colab": {
          "base_uri": "https://localhost:8080/",
          "height": 173
        },
        "id": "VmdYGNsZM0Tk",
        "outputId": "171183d1-3767-404a-e32d-51628eb96512"
      },
      "source": [
        "data_study_level.groupby(['class']).size().reset_index(name='counts')"
      ],
      "execution_count": null,
      "outputs": [
        {
          "output_type": "execute_result",
          "data": {
            "text/html": [
              "<div>\n",
              "<style scoped>\n",
              "    .dataframe tbody tr th:only-of-type {\n",
              "        vertical-align: middle;\n",
              "    }\n",
              "\n",
              "    .dataframe tbody tr th {\n",
              "        vertical-align: top;\n",
              "    }\n",
              "\n",
              "    .dataframe thead th {\n",
              "        text-align: right;\n",
              "    }\n",
              "</style>\n",
              "<table border=\"1\" class=\"dataframe\">\n",
              "  <thead>\n",
              "    <tr style=\"text-align: right;\">\n",
              "      <th></th>\n",
              "      <th>class</th>\n",
              "      <th>counts</th>\n",
              "    </tr>\n",
              "  </thead>\n",
              "  <tbody>\n",
              "    <tr>\n",
              "      <th>0</th>\n",
              "      <td>Atypical</td>\n",
              "      <td>474</td>\n",
              "    </tr>\n",
              "    <tr>\n",
              "      <th>1</th>\n",
              "      <td>Indeterminate</td>\n",
              "      <td>1049</td>\n",
              "    </tr>\n",
              "    <tr>\n",
              "      <th>2</th>\n",
              "      <td>Negative</td>\n",
              "      <td>1676</td>\n",
              "    </tr>\n",
              "    <tr>\n",
              "      <th>3</th>\n",
              "      <td>Typical</td>\n",
              "      <td>2855</td>\n",
              "    </tr>\n",
              "  </tbody>\n",
              "</table>\n",
              "</div>"
            ],
            "text/plain": [
              "           class  counts\n",
              "0       Atypical     474\n",
              "1  Indeterminate    1049\n",
              "2       Negative    1676\n",
              "3        Typical    2855"
            ]
          },
          "metadata": {},
          "execution_count": 44
        }
      ]
    },
    {
      "cell_type": "markdown",
      "metadata": {
        "id": "8TW-nGr4Sp_h"
      },
      "source": [
        "Gráfica de barras con las frecuencias y clases\n"
      ]
    },
    {
      "cell_type": "code",
      "metadata": {
        "colab": {
          "base_uri": "https://localhost:8080/",
          "height": 279
        },
        "id": "O0CW-1qsPxCt",
        "outputId": "6af3ef67-571d-462c-a791-a7affb26e621"
      },
      "source": [
        "import seaborn as sns\n",
        "\n",
        "ax = sns.countplot(x=\"class\",data=data_study_level)"
      ],
      "execution_count": null,
      "outputs": [
        {
          "output_type": "display_data",
          "data": {
            "image/png": "[encoded data removed]",
            "text/plain": [
              "<Figure size 432x288 with 1 Axes>"
            ]
          },
          "metadata": {
            "needs_background": "light"
          }
        }
      ]
    },
    {
      "cell_type": "markdown",
      "metadata": {
        "id": "V4LgpbknIpXL"
      },
      "source": [
        "Se observa que la clase de apariencia típica predomina frente a las otras 3 clases."
      ]
    },
    {
      "cell_type": "markdown",
      "metadata": {
        "id": "WE0NWqjrV74w"
      },
      "source": [
        "## Image Level\n",
        "\n",
        "Una  radiografía  puede  tener  cualquiera  de  las  dos  clases  siguientes  en función de \n",
        "los cuadros delimitadores o no. Puede haber 0 o más información de cuadro delimitador\n",
        "para cada imagen, dada en formato x1, y1, W, H para cada cuadro.\n",
        "\n",
        "none: para las imágenes que no tienen información de cuadro delimitador \n",
        "(normalmente, que también son negativas a nivel de estudio).\n",
        "opacidad: para las imágenes que tienen cuadros delimitadores, tienen \"opacidad\" \n",
        "a nivel de imagen. \n",
        "\n"
      ]
    },
    {
      "cell_type": "markdown",
      "metadata": {
        "id": "n8IciXUHWG5u"
      },
      "source": [
        "Calcular la variable “class” que identificará a que clase de las descritas anteriormente mencionadas. \n"
      ]
    },
    {
      "cell_type": "code",
      "metadata": {
        "id": "bHH0RhfYROHf"
      },
      "source": [
        "data_image_level['class'] = data_image_level.label.apply(lambda x: x.split()[0])"
      ],
      "execution_count": null,
      "outputs": []
    },
    {
      "cell_type": "markdown",
      "metadata": {
        "id": "ynDByK2XWZ3L"
      },
      "source": [
        "Determinar la frecuencia de las clase"
      ]
    },
    {
      "cell_type": "code",
      "metadata": {
        "colab": {
          "base_uri": "https://localhost:8080/",
          "height": 111
        },
        "id": "6d8kP6xcWYjy",
        "outputId": "1e1c7242-440b-45de-92da-a3955643f2f1"
      },
      "source": [
        "data_image_level.groupby(['class']).size().reset_index(name='counts')"
      ],
      "execution_count": null,
      "outputs": [
        {
          "output_type": "execute_result",
          "data": {
            "text/html": [
              "<div>\n",
              "<style scoped>\n",
              "    .dataframe tbody tr th:only-of-type {\n",
              "        vertical-align: middle;\n",
              "    }\n",
              "\n",
              "    .dataframe tbody tr th {\n",
              "        vertical-align: top;\n",
              "    }\n",
              "\n",
              "    .dataframe thead th {\n",
              "        text-align: right;\n",
              "    }\n",
              "</style>\n",
              "<table border=\"1\" class=\"dataframe\">\n",
              "  <thead>\n",
              "    <tr style=\"text-align: right;\">\n",
              "      <th></th>\n",
              "      <th>class</th>\n",
              "      <th>counts</th>\n",
              "    </tr>\n",
              "  </thead>\n",
              "  <tbody>\n",
              "    <tr>\n",
              "      <th>0</th>\n",
              "      <td>none</td>\n",
              "      <td>2040</td>\n",
              "    </tr>\n",
              "    <tr>\n",
              "      <th>1</th>\n",
              "      <td>opacity</td>\n",
              "      <td>4294</td>\n",
              "    </tr>\n",
              "  </tbody>\n",
              "</table>\n",
              "</div>"
            ],
            "text/plain": [
              "     class  counts\n",
              "0     none    2040\n",
              "1  opacity    4294"
            ]
          },
          "metadata": {},
          "execution_count": 56
        }
      ]
    },
    {
      "cell_type": "markdown",
      "metadata": {
        "id": "zfr_NGFmWnoy"
      },
      "source": [
        "Gráfica de barras con las frecuencias y clases"
      ]
    },
    {
      "cell_type": "code",
      "metadata": {
        "colab": {
          "base_uri": "https://localhost:8080/",
          "height": 279
        },
        "id": "q3DvBOkSWgas",
        "outputId": "dae27848-fb3c-4e4f-c857-c5bb272280df"
      },
      "source": [
        "ax = sns.countplot(x=\"class\",data=data_image_level)"
      ],
      "execution_count": null,
      "outputs": [
        {
          "output_type": "display_data",
          "data": {
            "image/png": "[encoded data removed]",
            "text/plain": [
              "<Figure size 432x288 with 1 Axes>"
            ]
          },
          "metadata": {
            "needs_background": "light"
          }
        }
      ]
    },
    {
      "cell_type": "markdown",
      "metadata": {
        "id": "LU0hp8e-XdQQ"
      },
      "source": [
        "### Unir ambos datasets"
      ]
    },
    {
      "cell_type": "code",
      "metadata": {
        "colab": {
          "base_uri": "https://localhost:8080/",
          "height": 278
        },
        "id": "zDEe79mVWtY_",
        "outputId": "ad0c8ecf-2a09-4d90-a8c5-901f51cf6833"
      },
      "source": [
        "data_study_level['StudyInstanceUID'] = data_study_level['id'].apply(lambda x: x.replace('_study', ''))\n",
        "train_df = data_image_level.merge(data_image_level, on='StudyInstanceUID')\n",
        "train_df.sample(3)"
      ],
      "execution_count": null,
      "outputs": [
        {
          "output_type": "execute_result",
          "data": {
            "text/html": [
              "<div>\n",
              "<style scoped>\n",
              "    .dataframe tbody tr th:only-of-type {\n",
              "        vertical-align: middle;\n",
              "    }\n",
              "\n",
              "    .dataframe tbody tr th {\n",
              "        vertical-align: top;\n",
              "    }\n",
              "\n",
              "    .dataframe thead th {\n",
              "        text-align: right;\n",
              "    }\n",
              "</style>\n",
              "<table border=\"1\" class=\"dataframe\">\n",
              "  <thead>\n",
              "    <tr style=\"text-align: right;\">\n",
              "      <th></th>\n",
              "      <th>id_x</th>\n",
              "      <th>boxes_x</th>\n",
              "      <th>label_x</th>\n",
              "      <th>StudyInstanceUID</th>\n",
              "      <th>class_x</th>\n",
              "      <th>id_y</th>\n",
              "      <th>boxes_y</th>\n",
              "      <th>label_y</th>\n",
              "      <th>class_y</th>\n",
              "    </tr>\n",
              "  </thead>\n",
              "  <tbody>\n",
              "    <tr>\n",
              "      <th>3466</th>\n",
              "      <td>6ea6f1a79e68_image</td>\n",
              "      <td>[{'x': 271.38756, 'y': 674.07467, 'width': 591...</td>\n",
              "      <td>opacity 1 271.38756 674.07467 863.01244 1599.5...</td>\n",
              "      <td>0ba072188224</td>\n",
              "      <td>opacity</td>\n",
              "      <td>6ea6f1a79e68_image</td>\n",
              "      <td>[{'x': 271.38756, 'y': 674.07467, 'width': 591...</td>\n",
              "      <td>opacity 1 271.38756 674.07467 863.01244 1599.5...</td>\n",
              "      <td>opacity</td>\n",
              "    </tr>\n",
              "    <tr>\n",
              "      <th>5850</th>\n",
              "      <td>cabdf7ef7881_image</td>\n",
              "      <td>[{'x': 2050.10644, 'y': 1100.21282, 'width': 5...</td>\n",
              "      <td>opacity 1 2050.10644 1100.21282 2611.57202 167...</td>\n",
              "      <td>65442563a7ae</td>\n",
              "      <td>opacity</td>\n",
              "      <td>cabdf7ef7881_image</td>\n",
              "      <td>[{'x': 2050.10644, 'y': 1100.21282, 'width': 5...</td>\n",
              "      <td>opacity 1 2050.10644 1100.21282 2611.57202 167...</td>\n",
              "      <td>opacity</td>\n",
              "    </tr>\n",
              "    <tr>\n",
              "      <th>5655</th>\n",
              "      <td>c3c012779959_image</td>\n",
              "      <td>NaN</td>\n",
              "      <td>none 1 0 0 1 1</td>\n",
              "      <td>ba401a51fdee</td>\n",
              "      <td>none</td>\n",
              "      <td>c3c012779959_image</td>\n",
              "      <td>NaN</td>\n",
              "      <td>none 1 0 0 1 1</td>\n",
              "      <td>none</td>\n",
              "    </tr>\n",
              "  </tbody>\n",
              "</table>\n",
              "</div>"
            ],
            "text/plain": [
              "                    id_x  ...  class_y\n",
              "3466  6ea6f1a79e68_image  ...  opacity\n",
              "5850  cabdf7ef7881_image  ...  opacity\n",
              "5655  c3c012779959_image  ...     none\n",
              "\n",
              "[3 rows x 9 columns]"
            ]
          },
          "metadata": {},
          "execution_count": 58
        }
      ]
    }
  ]
}